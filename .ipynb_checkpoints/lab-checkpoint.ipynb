{
 "cells": [
  {
   "attachments": {
    "image.png": {
     "image/png": "[encoded data removed]"
    }
   },
   "cell_type": "markdown",
   "metadata": {},
   "source": [
    "## Introduction\n",
    "\n",
    "Jupyter notebooks are divided into cells that can contain [markdown](https://daringfireball.net/projects/markdown/) or code that you can run interactively from the notebook interface. You can progress through the cells in the notebook by clicking the play button ![image.png](attachment:image.png) in the notebook tab's toolbar.\n",
    "\n",
    "Click the play button to advance to the next cell and continue on in the lab whenever you have completed a cell."
   ]
  },
  {
   "cell_type": "markdown",
   "metadata": {},
   "source": [
    "### Notebook Overview\n",
    "\n",
    "This notebook works through the main steps that are shared by most machine learning projects:\n",
    "\n",
    "- preparing data\n",
    "- training a model\n",
    "- hosting the model\n",
    "- Using the hosted model for inference\n",
    "\n",
    "You will use Python 3 as the programming language. This notebook is built on the SageMaker notebook conda_python3 environment. conda refers to [Anaconda](https://www.anaconda.com/distribution/) which is a data science platform. The environment comes with many common Python machine learning and data science libraries already installed. \n",
    "\n",
    "You will also use a built-in SageMaker algorithm for training the model as well as use SageMaker's model hosting capability to deploy the trained model to learn how to leverage SageMaker in your machine learning code."
   ]
  },
  {
   "cell_type": "markdown",
   "metadata": {},
   "source": [
    "## Understanding the Machine Learning Objective\n",
    "\n",
    "In this notebook you will work with [US flight delay data](https://www.transtats.bts.gov/Tables.asp?DB_ID=120&DB_Name=Airline%20On-Time%20Performance%20Data&DB_Short_Name=On-Time) to develop a model that can forecast flight delays. You will create a regression model to forecast the number of minutes a given flight will be delayed."
   ]
  },
  {
   "cell_type": "markdown",
   "metadata": {},
   "source": [
    "## Preparing the Data\n",
    "\n",
    "Raw flight delay data is provided to you in an Amazon S3 bucket. The data you will use is a sample of the total flight data available in order to keep the runtimes reasonably short for a more fluid lab experience."
   ]
  },
  {
   "cell_type": "code",
   "execution_count": 56,
   "metadata": {},
   "outputs": [
    {
     "name": "stdout",
     "output_type": "stream",
     "text": [
      "CPU times: user 464 ms, sys: 286 ms, total: 750 ms\n",
      "Wall time: 1.66 s\n"
     ]
    }
   ],
   "source": [
    "%%time\n",
    "import urllib.request\n",
    "\n",
    "# Download the data from S3 to the notebook instance (~100MB of data)\n",
    "source = \"https://clouda-labs-assets.s3-us-west-2.amazonaws.com/sagemaker-notebooks/Flights.csv\"\n",
    "filepath = \"Flights.csv\"\n",
    "urllib.request.urlretrieve(source, filepath)"
   ]
  },
  {
   "cell_type": "markdown",
   "metadata": {},
   "source": [
    "The data is in comma-separated value (CSV) format. You will now inspect a few rows of the data to understand the features and sample values in the raw data."
   ]
  },
  {
   "cell_type": "code",
   "execution_count": 57,
   "metadata": {},
   "outputs": [
    {
     "name": "stdout",
     "output_type": "stream",
     "text": [
      "Line 1: \"YEAR\",\"QUARTER\",\"MONTH\",\"DAY_OF_MONTH\",\"DAY_OF_WEEK\",\"UNIQUE_CARRIER\",\"TAIL_NUM\",\"FL_NUM\",\"ORIGIN\",\"DEST\",\"CRS_DEP_TIME\",\"DEP_TIME\",\"DEP_DELAY\",\"DEP_DELAY_NEW\",\"DEP_DEL15\",\"DEP_DELAY_GROUP\",\"CRS_ARR_TIME\",\"ARR_DELAY\",\"CRS_ELAPSED_TIME\",\"DISTANCE\",\"DISTANCE_GROUP\"\n",
      "\n",
      "Line 2: 2017,4,10,15,7,\"VX\",\"N844VA\",\"1174\",\"SFO\",\"EWR\",\"0805\",\"0833\",28.00,28.00,1,1,\"1630\",2.00,325.00,2565.00,11\n",
      "\n",
      "Line 3: 2017,4,11,23,4,\"B6\",\"N529JB\",\"470\",\"FLL\",\"BOS\",\"0713\",\"0706\",-7.00,0.00,0,-1,\"1017\",-20.00,184.00,1237.00,5\n",
      "\n",
      "Line 4: 2017,2,6,23,5,\"UA\",\"N19130\",\"1815\",\"IAH\",\"SFO\",\"1320\",\"1324\",4.00,4.00,0,0,\"1526\",-3.00,246.00,1635.00,7\n",
      "\n",
      "Line 5: 2017,1,3,21,2,\"AA\",\"N183AA\",\"628\",\"CLT\",\"PHX\",\"1300\",\"1257\",-3.00,0.00,0,-1,\"1435\",-23.00,275.00,1773.00,8\n",
      "\n"
     ]
    }
   ],
   "source": [
    "with open(filepath) as file:\n",
    "   line = file.readline()\n",
    "   count = 1\n",
    "   while count <= 5:\n",
    "       print(\"Line {}: {}\".format(count, line))\n",
    "       line = file.readline()\n",
    "       count += 1"
   ]
  },
  {
   "cell_type": "markdown",
   "metadata": {},
   "source": [
    "__Line 1__ of the CSV file is the header which gives the names of each column in the file. The arrival delay (__ARR_DELAY__) column is the target you want to predict. The other columns are a variety of features for identifying the flight including the origin (__ORIGIN__) and destination (__DEST__) airports, date features (__YEAR__, __QUARTER__, etc.). The following lines show sample values for the features.\n",
    "\n",
    "To get the most value from the data, you need to consider each feature's data type. The following dictionary \n",
    "\n",
    "You will use the [Python Data Analysis Library](https://pandas.pydata.org), or `pandas`, to load the CSV data into a `DataFrame` (`df`) that is easy to manipulate. To do so, you need to provide `pandas` with data types (`dtypes`) for each of the features. [`pandas` supports several data types](https://pandas.pydata.org/pandas-docs/stable/getting_started/basics.html#basics-dtypes). The following dictionary maps each feature to a data type."
   ]
  },
  {
   "cell_type": "code",
   "execution_count": 58,
   "metadata": {},
   "outputs": [],
   "source": [
    "import numpy as np\n",
    "import pandas as pd\n",
    "\n",
    "dtypes = {\n",
    "        \"YEAR\": np.int64,\n",
    "        \"QUARTER\": \"category\",\n",
    "        \"MONTH\": \"category\",\n",
    "        \"DAY_OF_MONTH\": \"category\",\n",
    "        \"DAY_OF_WEEK\": \"category\",\n",
    "        \"UNIQUE_CARRIER\": \"category\",\n",
    "        \"TAIL_NUM\": \"category\",\n",
    "        \"FL_NUM\": \"category\",\n",
    "        \"ORIGIN\": \"category\",\n",
    "        \"DEST\": \"category\",\n",
    "        \"CRS_DEP_TIME\": np.int64,\n",
    "        \"DEP_TIME\": np.int64,\n",
    "        \"DEP_DELAY\": np.float64,\n",
    "        \"DEP_DELAY_NEW\": np.float64,\n",
    "        \"DEP_DEL15\": np.int64,\n",
    "        \"DEP_DELAY_GROUP\": np.int64,\n",
    "        \"CRS_ARR_TIME\": np.int64,\n",
    "        \"ARR_DELAY\": np.float64,\n",
    "        \"CRS_ELAPSED_TIME\": np.float64,\n",
    "        \"DISTANCE\": np.float64,\n",
    "        \"DISTANCE_GROUP\": \"category\"\n",
    "    }"
   ]
  },
  {
   "cell_type": "markdown",
   "metadata": {},
   "source": [
    "It is not always obvious which data type to use for a feature. The provided types are reasonable but in practice it may be worth trying different data types to see which yields the best results when it is not clear.\n",
    "\n",
    "The [`read_csv`](https://pandas.pydata.org/pandas-docs/stable/reference/api/pandas.read_csv.html) function can now create a DataFrame from the csv data. "
   ]
  },
  {
   "cell_type": "code",
   "execution_count": 59,
   "metadata": {},
   "outputs": [
    {
     "name": "stdout",
     "output_type": "stream",
     "text": [
      "CPU times: user 3.53 s, sys: 126 ms, total: 3.65 s\n",
      "Wall time: 3.64 s\n"
     ]
    }
   ],
   "source": [
    "%%time\n",
    "\n",
    "df = pd.read_csv(filepath, dtype=dtypes)"
   ]
  },
  {
   "cell_type": "markdown",
   "metadata": {},
   "source": [
    "You can now explore the data to better understand each feature's statistics and distribution. For brevity, the following code only explores the target arrival delay. You can explore other features by extending the code if you desire."
   ]
  },
  {
   "cell_type": "code",
   "execution_count": 61,
   "metadata": {},
   "outputs": [
    {
     "data": {
      "text/plain": [
       "count    1.114749e+06\n",
       "mean     4.666474e+00\n",
       "std      4.562534e+01\n",
       "min     -2.350000e+02\n",
       "25%     -1.400000e+01\n",
       "50%     -6.000000e+00\n",
       "75%      8.000000e+00\n",
       "max      1.935000e+03\n",
       "Name: ARR_DELAY, dtype: float64"
      ]
     },
     "execution_count": 61,
     "metadata": {},
     "output_type": "execute_result"
    },
    {
     "data": {
      "image/png": "[encoded data removed]",
      "text/plain": [
       "<Figure size 864x432 with 2 Axes>"
      ]
     },
     "metadata": {},
     "output_type": "display_data"
    }
   ],
   "source": [
    "import matplotlib.pyplot as plt\n",
    "%matplotlib inline\n",
    "\n",
    "# Plot histogram of all arrival delays and arrival delays between -100 (100 minutes early) and 100\n",
    "fig, axes = plt.subplots(1, 2, figsize=(12,6))\n",
    "fig.suptitle('Arrival Delay Histograms')\n",
    "axes[0].hist(df['ARR_DELAY'], bins=50)\n",
    "axes[0].set(ylabel='Frequency', xlabel='Arrival Delay (Minutes)');\n",
    "\n",
    "delays_zoom = df.loc[(df['ARR_DELAY'] >= -100) & (df['ARR_DELAY'] <= 100), 'ARR_DELAY']\n",
    "axes[1].hist(delays_zoom, bins=50)\n",
    "axes[1].set(ylabel='Frequency', xlabel='Arrival Delay (Minutes)');\n",
    "\n",
    "# Print arrival delay statistics\n",
    "df['ARR_DELAY'].describe()"
   ]
  },
  {
   "cell_type": "markdown",
   "metadata": {},
   "source": [
    "There is a wide range of arrival delays with the largest delay being 1935 minutes. The average delay is 4.7 minutes. The majority of flights arrive early (50th percentile is -6 minutes).\n",
    "\n",
    "Some features will not be included in the model to reduce the training time for the sake of this lab and because some features are not expected to correlate with the target. For example, the __YEAR__ is always 2017 in the sample data so it has not value in predicting delay."
   ]
  },
  {
   "cell_type": "code",
   "execution_count": 62,
   "metadata": {},
   "outputs": [],
   "source": [
    "drop_columns = [\"YEAR\", \"TAIL_NUM\", \"FL_NUM\", \"DEST\"]\n",
    "df = df.drop(columns=drop_columns)"
   ]
  },
  {
   "cell_type": "markdown",
   "metadata": {},
   "source": [
    "The SageMaker algorithm you will use only supports numerical feature values. You must encode the categorical features because of this restriction. There are several ways to encode categorical features into numerical features but you will use one-hot encoding which replaces a categorical feature with one feature for each possible value of the encoded feature. This does result in an increase in the number of features which can impact training times."
   ]
  },
  {
   "cell_type": "code",
   "execution_count": 63,
   "metadata": {},
   "outputs": [
    {
     "name": "stdout",
     "output_type": "stream",
     "text": [
      "CPU times: user 7.38 s, sys: 3.71 s, total: 11.1 s\n",
      "Wall time: 7.76 s\n"
     ]
    }
   ],
   "source": [
    "%%time\n",
    "\n",
    "categoricals = [column for (column, dtype) in dtypes.items() if dtype == \"category\" and column in df.columns]\n",
    "for column in categoricals:\n",
    "    df = pd.get_dummies(data=df, columns=[column])"
   ]
  },
  {
   "cell_type": "markdown",
   "metadata": {},
   "source": [
    "After one-hot encoding the categorical features the number of features has increased to 402 from 21."
   ]
  },
  {
   "cell_type": "code",
   "execution_count": 64,
   "metadata": {},
   "outputs": [
    {
     "data": {
      "text/plain": [
       "(1114749, 402)"
      ]
     },
     "execution_count": 64,
     "metadata": {},
     "output_type": "execute_result"
    }
   ],
   "source": [
    "df.shape"
   ]
  },
  {
   "cell_type": "markdown",
   "metadata": {},
   "source": [
    "Had some of the columns not been dropped the number would be significantly higher. For example, the __TAIL_NUM__ feature is a unique number assigned to each aircraft. In the data set there are over 4000 aircrafts which would result in over 4000 features being added with one-hot encoding. For this lab you assume there is no correlation between specific aircrafts and arrival delay by dropping the column.\n",
    "\n"
   ]
  }
 ],
 "metadata": {
  "kernelspec": {
   "display_name": "conda_python3",
   "language": "python",
   "name": "conda_python3"
  },
  "language_info": {
   "codemirror_mode": {
    "name": "ipython",
    "version": 3
   },
   "file_extension": ".py",
   "mimetype": "text/x-python",
   "name": "python",
   "nbconvert_exporter": "python",
   "pygments_lexer": "ipython3",
   "version": "3.6.5"
  }
 },
 "nbformat": 4,
 "nbformat_minor": 4
}
